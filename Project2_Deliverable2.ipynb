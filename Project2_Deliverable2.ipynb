{
  "nbformat": 4,
  "nbformat_minor": 0,
  "metadata": {
    "colab": {
      "provenance": []
    },
    "kernelspec": {
      "name": "python3",
      "display_name": "Python 3"
    },
    "language_info": {
      "name": "python"
    }
  },
  "cells": [
    {
      "cell_type": "code",
      "source": [
        "import random\n",
        "import pandas as pd"
      ],
      "metadata": {
        "id": "B2ET8P33T66o"
      },
      "execution_count": 1,
      "outputs": []
    },
    {
      "cell_type": "code",
      "source": [
        "# Defining refined personas\n",
        "personas = [\n",
        "    {\n",
        "        \"name\": \"Tech-Savvy Teen\",\n",
        "        \"age\": 17,\n",
        "        \"tech_experience\": \"High\",\n",
        "        \"feedback_style\": \"blunt\",\n",
        "        \"likes_minimal_ui\": True\n",
        "    },\n",
        "    {\n",
        "        \"name\": \"Busy Professional\",\n",
        "        \"age\": 35,\n",
        "        \"tech_experience\": \"Medium\",\n",
        "        \"feedback_style\": \"direct\",\n",
        "        \"likes_minimal_ui\": True\n",
        "    },\n",
        "    {\n",
        "        \"name\": \"Elderly User\",\n",
        "        \"age\": 70,\n",
        "        \"tech_experience\": \"Low\",\n",
        "        \"feedback_style\": \"polite\",\n",
        "        \"likes_minimal_ui\": False\n",
        "    }\n",
        "]"
      ],
      "metadata": {
        "id": "PUb8BkNFUAzi"
      },
      "execution_count": 2,
      "outputs": []
    },
    {
      "cell_type": "code",
      "source": [
        "# Simulating feature feedback\n",
        "def simulate_feedback(persona, feature_description):\n",
        "    if persona[\"tech_experience\"] == \"High\":\n",
        "        feedback = f\"{persona['name']}: 'I liked the {feature_description}, but it could be faster.'\"\n",
        "    elif persona[\"tech_experience\"] == \"Medium\":\n",
        "        feedback = f\"{persona['name']}: '{feature_description} was useful. Keep it simple.'\"\n",
        "    else:\n",
        "        feedback = f\"{persona['name']}: 'I'm confused by the {feature_description}. Maybe make it easier?'\"\n",
        "\n",
        "    return feedback"
      ],
      "metadata": {
        "id": "Nv2_TdXRUFIW"
      },
      "execution_count": 3,
      "outputs": []
    },
    {
      "cell_type": "code",
      "source": [
        "# Testing feedback simulation\n",
        "features = [\"new search button\", \"voice-to-text input\", \"dark mode toggle\"]\n",
        "\n",
        "feedback_data = []\n",
        "\n",
        "for persona in personas:\n",
        "    for feature in features:\n",
        "        fb = simulate_feedback(persona, feature)\n",
        "        feedback_data.append({\n",
        "            \"Persona\": persona[\"name\"],\n",
        "            \"Feature\": feature,\n",
        "            \"Feedback\": fb\n",
        "        })"
      ],
      "metadata": {
        "id": "1vOdS_HJUIIl"
      },
      "execution_count": 4,
      "outputs": []
    },
    {
      "cell_type": "code",
      "source": [
        "# Convert to DataFrame for visualization or export\n",
        "df = pd.DataFrame(feedback_data)\n",
        "print(df)"
      ],
      "metadata": {
        "colab": {
          "base_uri": "https://localhost:8080/"
        },
        "id": "_mUjvLQjUMP0",
        "outputId": "74954a93-ba91-4fdb-fecd-712fe46a2915"
      },
      "execution_count": 5,
      "outputs": [
        {
          "output_type": "stream",
          "name": "stdout",
          "text": [
            "             Persona              Feature  \\\n",
            "0    Tech-Savvy Teen    new search button   \n",
            "1    Tech-Savvy Teen  voice-to-text input   \n",
            "2    Tech-Savvy Teen     dark mode toggle   \n",
            "3  Busy Professional    new search button   \n",
            "4  Busy Professional  voice-to-text input   \n",
            "5  Busy Professional     dark mode toggle   \n",
            "6       Elderly User    new search button   \n",
            "7       Elderly User  voice-to-text input   \n",
            "8       Elderly User     dark mode toggle   \n",
            "\n",
            "                                            Feedback  \n",
            "0  Tech-Savvy Teen: 'I liked the new search butto...  \n",
            "1  Tech-Savvy Teen: 'I liked the voice-to-text in...  \n",
            "2  Tech-Savvy Teen: 'I liked the dark mode toggle...  \n",
            "3  Busy Professional: 'new search button was usef...  \n",
            "4  Busy Professional: 'voice-to-text input was us...  \n",
            "5  Busy Professional: 'dark mode toggle was usefu...  \n",
            "6  Elderly User: 'I'm confused by the new search ...  \n",
            "7  Elderly User: 'I'm confused by the voice-to-te...  \n",
            "8  Elderly User: 'I'm confused by the dark mode t...  \n"
          ]
        }
      ]
    }
  ]
}